{
 "cells": [
  {
   "cell_type": "markdown",
   "metadata": {},
   "source": [
    "# 파이썬 기초3\n",
    "## 2.whlie문"
   ]
  },
  {
   "cell_type": "markdown",
   "metadata": {},
   "source": [
    "### 기본구조 반복해서 사용할때"
   ]
  },
  {
   "cell_type": "code",
   "execution_count": 1,
   "metadata": {},
   "outputs": [
    {
     "ename": "IndentationError",
     "evalue": "unindent does not match any outer indentation level (<tokenize>, line 3)",
     "output_type": "error",
     "traceback": [
      "\u001b[1;36m  File \u001b[1;32m\"<tokenize>\"\u001b[1;36m, line \u001b[1;32m3\u001b[0m\n\u001b[1;33m    <수행할 문장2>\u001b[0m\n\u001b[1;37m    ^\u001b[0m\n\u001b[1;31mIndentationError\u001b[0m\u001b[1;31m:\u001b[0m unindent does not match any outer indentation level\n"
     ]
    }
   ],
   "source": [
    "whlie <조건문>:\n",
    "      <수행할 문장1>\n",
    "    <수행할 문장2>"
   ]
  },
  {
   "cell_type": "code",
   "execution_count": 3,
   "metadata": {},
   "outputs": [
    {
     "name": "stdout",
     "output_type": "stream",
     "text": [
      "1몇 번 찍었습니다.\n",
      "2몇 번 찍었습니다.\n",
      "3몇 번 찍었습니다.\n",
      "4몇 번 찍었습니다.\n",
      "5몇 번 찍었습니다.\n",
      "6몇 번 찍었습니다.\n",
      "7몇 번 찍었습니다.\n",
      "8몇 번 찍었습니다.\n",
      "9몇 번 찍었습니다.\n",
      "10몇 번 찍었습니다.\n",
      "나무가 넘어갑니다.\n"
     ]
    }
   ],
   "source": [
    "# 열번찍어 안넘어 가는 나무 없다 \n",
    "count = 0 #숫자를 0부터 세기 위함. \n",
    "while count < 10:\n",
    "    count = count + 1 \n",
    "    #10번 찍을 떄까지\n",
    "    #1~9번은 계속 나무를 찍자\n",
    "    print(\"{count}몇 번 찍었습니다.\" .format(count=count))\n",
    "    # 열번찍으면 나무 넘어가게 \n",
    "    if count == 10:\n",
    "        print(\"나무가 넘어갑니다.\")"
   ]
  },
  {
   "cell_type": "markdown",
   "metadata": {},
   "source": [
    "# 사용자 선택화면 만들기 "
   ]
  },
  {
   "cell_type": "code",
   "execution_count": null,
   "metadata": {},
   "outputs": [],
   "source": [
    "#prompt = \"1. 추가\\n2. 2. 삭제\\n3. 3. 리스트\\n4. 4. 나가기\\n5.\n",
    "#\"\"\""
   ]
  },
  {
   "cell_type": "code",
   "execution_count": 1,
   "metadata": {},
   "outputs": [],
   "source": [
    "prompt=\"\"\"\n",
    "1. 추가\n",
    "2. 삭제\n",
    "3. 리스트\n",
    "4. 나가기\n",
    "\"\"\""
   ]
  },
  {
   "cell_type": "code",
   "execution_count": null,
   "metadata": {},
   "outputs": [
    {
     "name": "stdout",
     "output_type": "stream",
     "text": [
      "\n",
      "1. 추가\n",
      "2. 삭제\n",
      "3. 리스트\n",
      "4. 나가기\n",
      "\n"
     ]
    }
   ],
   "source": [
    "# 위 화면을 무한재생시킴\n",
    "number = 0\n",
    "while number != 4: #4안누른 동안ㄴ에\n",
    "    print(prompt)\n",
    "    number = int(input())"
   ]
  },
  {
   "cell_type": "markdown",
   "metadata": {},
   "source": [
    "### whlie문 빠져나가기 \n",
    "- break를 쓰면 강제로 멈춘다"
   ]
  },
  {
   "cell_type": "code",
   "execution_count": 1,
   "metadata": {},
   "outputs": [
    {
     "name": "stdout",
     "output_type": "stream",
     "text": [
      "커피나온다\n",
      "커피나온다\n",
      "커피나온다\n",
      "커피나온다\n",
      "커피나온다\n",
      "커피나온다\n",
      "커피나온다\n",
      "커피나온다\n",
      "커피나온다\n",
      "커피나온다\n",
      "커피가 없습니다.\n"
     ]
    }
   ],
   "source": [
    "coffe = 10 #자판기커피재고수\n",
    "money = 300 # 나한테 있는 돈\n",
    "while money:\n",
    "    print(\"커피나온다\")\n",
    "    coffe = coffe -1 #커피재고 감소\n",
    "    if not coffe:\n",
    "        print(\"커피가 없습니다.\")\n",
    "        break#break가 있어야 무한루프 막음"
   ]
  },
  {
   "cell_type": "markdown",
   "metadata": {},
   "source": [
    "### 조건에 안맞는 경우 처음으로 동아가기\n",
    "- CONTINUE"
   ]
  },
  {
   "cell_type": "code",
   "execution_count": 4,
   "metadata": {},
   "outputs": [
    {
     "name": "stdout",
     "output_type": "stream",
     "text": [
      "1\n",
      "3\n",
      "5\n",
      "7\n",
      "9\n"
     ]
    }
   ],
   "source": [
    "#홀수 판별 프로그램\n",
    "a = 0\n",
    "while a <10:\n",
    "    a = a + 1\n",
    "    if a % 2 == 0: continue \n",
    "    print(a)"
   ]
  },
  {
   "cell_type": "markdown",
   "metadata": {},
   "source": [
    "## 3. for문"
   ]
  },
  {
   "cell_type": "code",
   "execution_count": null,
   "metadata": {},
   "outputs": [],
   "source": [
    "for 변수 in 리스트 or 튜플 or 문자열:\n",
    "    수행할 문장1\n",
    "    수행할 문장2\n",
    "    "
   ]
  },
  {
   "cell_type": "code",
   "execution_count": 6,
   "metadata": {},
   "outputs": [
    {
     "name": "stdout",
     "output_type": "stream",
     "text": [
      "one\n",
      "two\n",
      "three\n"
     ]
    }
   ],
   "source": [
    "test_list = ['one', 'two', 'three']\n",
    "for i in test_list:\n",
    "    print(i)"
   ]
  },
  {
   "cell_type": "markdown",
   "metadata": {},
   "source": [
    "### for문 응용"
   ]
  },
  {
   "cell_type": "code",
   "execution_count": 9,
   "metadata": {},
   "outputs": [
    {
     "name": "stdout",
     "output_type": "stream",
     "text": [
      "합격!\n",
      "불합격!\n",
      "합격!\n",
      "불합격!\n",
      "합격!\n"
     ]
    }
   ],
   "source": [
    "scores = [99, 25, 67, 45, 80]\n",
    "\n",
    "for i in scores:\n",
    "    if i >= 60:\n",
    "        print(\"합격!\")\n",
    "    else:\n",
    "        print(\"불합격!\")"
   ]
  },
  {
   "cell_type": "code",
   "execution_count": 11,
   "metadata": {},
   "outputs": [
    {
     "name": "stdout",
     "output_type": "stream",
     "text": [
      "99 합격!\n",
      "67 합격!\n",
      "80 합격!\n"
     ]
    }
   ],
   "source": [
    "scores = [99, 25, 67, 45, 80]\n",
    "\n",
    "for i in scores:\n",
    "    if i < 60: continue\n",
    "    print(i,\"합격!\")"
   ]
  },
  {
   "cell_type": "markdown",
   "metadata": {},
   "source": [
    "## for문과 자주 사용하는 함수"
   ]
  },
  {
   "cell_type": "code",
   "execution_count": 12,
   "metadata": {},
   "outputs": [
    {
     "name": "stdout",
     "output_type": "stream",
     "text": [
      "0\n",
      "1\n",
      "2\n",
      "3\n",
      "4\n",
      "5\n",
      "6\n",
      "7\n",
      "8\n",
      "9\n"
     ]
    }
   ],
   "source": [
    "for i in range(10):\n",
    "    print(i)"
   ]
  },
  {
   "cell_type": "code",
   "execution_count": 13,
   "metadata": {},
   "outputs": [
    {
     "data": {
      "text/plain": [
       "5"
      ]
     },
     "execution_count": 13,
     "metadata": {},
     "output_type": "execute_result"
    }
   ],
   "source": [
    "len(scores)"
   ]
  },
  {
   "cell_type": "code",
   "execution_count": 15,
   "metadata": {},
   "outputs": [
    {
     "data": {
      "text/plain": [
       "range(0, 5)"
      ]
     },
     "execution_count": 15,
     "metadata": {},
     "output_type": "execute_result"
    }
   ],
   "source": [
    "range(len(scores))"
   ]
  },
  {
   "cell_type": "markdown",
   "metadata": {},
   "source": [
    "## for문 lab\n",
    "### 좋아하는 과일 6개를 fruits라는 변수에 리스트로 저장하시오\n",
    "#### 모든 6개 과일을 한줄씩 출력"
   ]
  },
  {
   "cell_type": "code",
   "execution_count": 51,
   "metadata": {},
   "outputs": [
    {
     "name": "stdout",
     "output_type": "stream",
     "text": [
      "천해향\n",
      "레드향\n",
      "한라봉\n",
      "귤\n",
      "딸기\n",
      "수박\n"
     ]
    }
   ],
   "source": [
    "fruits = ['천해향', '레드향', '한라봉', '귤', '딸기', '수박']\n",
    "\n",
    "\n",
    "for i in fruits :\n",
    "    print(i)\n",
    "\n"
   ]
  },
  {
   "cell_type": "markdown",
   "metadata": {},
   "source": [
    "#### frusits에 append 내장함수를 사용하여 복숭아를 추가하시오 "
   ]
  },
  {
   "cell_type": "code",
   "execution_count": 52,
   "metadata": {},
   "outputs": [
    {
     "name": "stdout",
     "output_type": "stream",
     "text": [
      "['천해향', '레드향', '한라봉', '귤', '딸기', '수박', '복숭아']\n"
     ]
    }
   ],
   "source": [
    "fruits.append('복숭아')\n",
    "print(fruits)"
   ]
  },
  {
   "cell_type": "code",
   "execution_count": null,
   "metadata": {},
   "outputs": [],
   "source": []
  },
  {
   "cell_type": "markdown",
   "metadata": {},
   "source": [
    "#### 복수앙 알러지가 있을 수있으니 이프문을 활용하여 복숭아는 제외하고 출력히시오"
   ]
  },
  {
   "cell_type": "code",
   "execution_count": 49,
   "metadata": {},
   "outputs": [
    {
     "name": "stdout",
     "output_type": "stream",
     "text": [
      "천해향\n",
      "레드향\n",
      "한라봉\n",
      "귤\n",
      "딸기\n",
      "수박\n"
     ]
    }
   ],
   "source": [
    "for i in fruits :\n",
    "    if i == '복숭아' : continue\n",
    "    print(i)\n"
   ]
  },
  {
   "cell_type": "code",
   "execution_count": null,
   "metadata": {},
   "outputs": [],
   "source": []
  },
  {
   "cell_type": "code",
   "execution_count": null,
   "metadata": {},
   "outputs": [],
   "source": []
  },
  {
   "cell_type": "code",
   "execution_count": null,
   "metadata": {},
   "outputs": [],
   "source": []
  },
  {
   "cell_type": "code",
   "execution_count": null,
   "metadata": {},
   "outputs": [],
   "source": []
  },
  {
   "cell_type": "code",
   "execution_count": null,
   "metadata": {},
   "outputs": [],
   "source": []
  },
  {
   "cell_type": "code",
   "execution_count": null,
   "metadata": {},
   "outputs": [],
   "source": []
  },
  {
   "cell_type": "code",
   "execution_count": null,
   "metadata": {},
   "outputs": [],
   "source": []
  },
  {
   "cell_type": "code",
   "execution_count": null,
   "metadata": {},
   "outputs": [],
   "source": []
  },
  {
   "cell_type": "code",
   "execution_count": null,
   "metadata": {},
   "outputs": [],
   "source": []
  },
  {
   "cell_type": "code",
   "execution_count": null,
   "metadata": {},
   "outputs": [],
   "source": []
  }
 ],
 "metadata": {
  "kernelspec": {
   "display_name": "Python 3",
   "language": "python",
   "name": "python3"
  },
  "language_info": {
   "codemirror_mode": {
    "name": "ipython",
    "version": 3
   },
   "file_extension": ".py",
   "mimetype": "text/x-python",
   "name": "python",
   "nbconvert_exporter": "python",
   "pygments_lexer": "ipython3",
   "version": "3.6.4"
  }
 },
 "nbformat": 4,
 "nbformat_minor": 2
}
